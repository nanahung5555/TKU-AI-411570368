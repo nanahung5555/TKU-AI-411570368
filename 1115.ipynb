{
  "nbformat": 4,
  "nbformat_minor": 0,
  "metadata": {
    "colab": {
      "provenance": [],
      "authorship_tag": "ABX9TyNUHlvnrjYJPEqGyH+NOHHj",
      "include_colab_link": true
    },
    "kernelspec": {
      "name": "python3",
      "display_name": "Python 3"
    },
    "language_info": {
      "name": "python"
    }
  },
  "cells": [
    {
      "cell_type": "markdown",
      "metadata": {
        "id": "view-in-github",
        "colab_type": "text"
      },
      "source": [
        "<a href=\"https://colab.research.google.com/github/nanahung5555/TKU-AI-411570368/blob/main/1115.ipynb\" target=\"_parent\"><img src=\"https://colab.research.google.com/assets/colab-badge.svg\" alt=\"Open In Colab\"/></a>"
      ]
    },
    {
      "cell_type": "code",
      "execution_count": null,
      "metadata": {
        "colab": {
          "base_uri": "https://localhost:8080/"
        },
        "id": "_FreaOjHsehs",
        "outputId": "967df267-4a37-4eb1-dd52-5bc3538544f4"
      },
      "outputs": [
        {
          "output_type": "stream",
          "name": "stdout",
          "text": [
            "Hi,python\n"
          ]
        }
      ],
      "source": [
        "print(\"Hi,python\")"
      ]
    },
    {
      "cell_type": "markdown",
      "source": [
        "今天是11月15日"
      ],
      "metadata": {
        "id": "P5z_RKwItm0I"
      }
    },
    {
      "cell_type": "code",
      "source": [
        "print(\"今天是11月15號\")"
      ],
      "metadata": {
        "colab": {
          "base_uri": "https://localhost:8080/"
        },
        "id": "QgXG3VyQvbOB",
        "outputId": "ffe5dd3f-e219-4f30-b57d-f18069e30859"
      },
      "execution_count": null,
      "outputs": [
        {
          "output_type": "stream",
          "name": "stdout",
          "text": [
            "今天是11月15號\n"
          ]
        }
      ]
    },
    {
      "cell_type": "code",
      "source": [
        "print(\"411570368 洪恩恩\")"
      ],
      "metadata": {
        "colab": {
          "base_uri": "https://localhost:8080/"
        },
        "id": "i4irQz20xcWW",
        "outputId": "a09e4975-9133-4ad6-9cc5-bcaa2756615c"
      },
      "execution_count": null,
      "outputs": [
        {
          "output_type": "stream",
          "name": "stdout",
          "text": [
            "411570368 洪恩恩\n"
          ]
        }
      ]
    }
  ]
}